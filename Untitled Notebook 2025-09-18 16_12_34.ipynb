{
 "cells": [
  {
   "cell_type": "code",
   "execution_count": 0,
   "metadata": {
    "application/vnd.databricks.v1+cell": {
     "cellMetadata": {
      "byteLimit": 2048000,
      "rowLimit": 10000
     },
     "inputWidgets": {},
     "nuid": "87d2d850-797d-47ad-8e7d-083011425fe4",
     "showTitle": false,
     "tableResultSettingsMap": {},
     "title": ""
    }
   },
   "outputs": [],
   "source": [
    "from pyspark.sql import functions as F\n",
    "\n",
    "\n",
    "bronze_flights = spark.createDataFrame([\n",
    "    (\"AA101\", \"American\", \"JFK\", \"LAX\", 10, 5, 0),\n",
    "    (\"DL202\", \"Delta\", \"LGA\", \"ORD\", -5, 0, 0),\n",
    "    (\"UA303\", \"United\", \"ORD\", \"LAX\", 20, 15, 0),\n",
    "    (\"AA101\", \"American\", \"JFK\", \"LAX\", 10, 5, 0),  \n",
    "    (\"DL404\", \"Delta\", \"LAX\", \"JFK\", 0, 0, 1)      \n",
    "], [\"flight_number\", \"airline\", \"origin\", \"dest\", \"arr_delay\", \"dep_delay\", \"cancelled\"])\n",
    "\n",
    "display(bronze_flights)\n",
    "\n",
    "\n",
    "silver_flights = (\n",
    "    bronze_flights\n",
    "    .dropDuplicates()\n",
    "    .withColumn(\"airline\", F.upper(F.col(\"airline\")))\n",
    "    .withColumn(\"arr_delay\", F.round(F.col(\"arr_delay\")))\n",
    "    .withColumn(\"dep_delay\", F.round(F.col(\"dep_delay\")))\n",
    ")\n",
    "\n",
    "display(silver_flights)\n",
    "\n",
    "\n",
    "\n",
    "gold_flights = (\n",
    "    silver_flights.groupBy(\"airline\")\n",
    "    .agg(\n",
    "        F.count(\"flight_number\").alias(\"total_flights\"),\n",
    "        F.round(F.avg(\"arr_delay\"), 2).alias(\"avg_arr_delay\"),\n",
    "        F.round(F.avg(\"dep_delay\"), 2).alias(\"avg_dep_delay\"),\n",
    "        F.sum(\"cancelled\").alias(\"total_cancelled\")\n",
    "    )\n",
    ")\n",
    "\n",
    "display(gold_flights)\n",
    "\n",
    "\n"
   ]
  }
 ],
 "metadata": {
  "application/vnd.databricks.v1+notebook": {
   "computePreferences": null,
   "dashboards": [],
   "environmentMetadata": {
    "base_environment": "",
    "environment_version": "3"
   },
   "inputWidgetPreferences": null,
   "language": "python",
   "notebookMetadata": {
    "pythonIndentUnit": 4
   },
   "notebookName": "Untitled Notebook 2025-09-18 16_12_34",
   "widgets": {}
  },
  "language_info": {
   "name": "python"
  }
 },
 "nbformat": 4,
 "nbformat_minor": 0
}
