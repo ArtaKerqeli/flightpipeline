{
 "cells": [
  {
   "cell_type": "code",
   "execution_count": 0,
   "metadata": {
    "application/vnd.databricks.v1+cell": {
     "cellMetadata": {
      "byteLimit": 2048000,
      "rowLimit": 10000
     },
     "inputWidgets": {},
     "nuid": "5b91c2cc-4e8a-4081-96de-457e44dfb53d",
     "showTitle": false,
     "tableResultSettingsMap": {},
     "title": ""
    }
   },
   "outputs": [],
   "source": [
    "\n",
    "\n",
    "from pyspark.sql.functions import col, round, avg, countDistinct\n",
    "\n",
    "bronze = spark.createDataFrame([\n",
    "    (\"JFK\", \"New York\", 40.6413, -73.7781),\n",
    "    (\"LGA\", \"New york\", 40.7769, -73.8740),\n",
    "    (\"ORD\", \"chicago\", 41.9742, -87.9073),\n",
    "    (\"LAX\", \"LosAngeles\", 33.9416, -118.4085),\n",
    "    (\"JFK\", \"New York\", 40.6413, -73.7781)  \n",
    "], [\"iata\", \"city\", \"latitude\", \"longitude\"])\n",
    "\n",
    "display(bronze)\n",
    "from pyspark.sql.functions import upper, trim\n",
    "\n",
    "\n",
    "\n",
    "silver = (\n",
    "    bronze\n",
    "    .withColumn(\"city\", trim(upper(col(\"city\"))))     \n",
    "    .dropDuplicates()\n",
    "    .withColumn(\"latitude\", round(col(\"latitude\")))   \n",
    "    .withColumn(\"longitude\", round(col(\"longitude\"))) \n",
    ")\n",
    "\n",
    "display(silver)\n",
    "\n",
    "\n",
    "gold = (\n",
    "    silver.groupBy(\"city\")\n",
    "    .agg(\n",
    "        countDistinct(\"iata\").alias(\"total_airports\"),\n",
    "        avg(\"latitude\").alias(\"avg_latitude\"),\n",
    "        avg(\"longitude\").alias(\"avg_longitude\")\n",
    "    )\n",
    ")\n",
    "\n",
    "display(gold)"
   ]
  }
 ],
 "metadata": {
  "application/vnd.databricks.v1+notebook": {
   "computePreferences": null,
   "dashboards": [],
   "environmentMetadata": {
    "base_environment": "",
    "environment_version": "3"
   },
   "inputWidgetPreferences": null,
   "language": "python",
   "notebookMetadata": {
    "pythonIndentUnit": 4
   },
   "notebookName": "Untitled Notebook 2025-09-18 16_08_57",
   "widgets": {}
  },
  "language_info": {
   "name": "python"
  }
 },
 "nbformat": 4,
 "nbformat_minor": 0
}
